{
  "nbformat": 4,
  "nbformat_minor": 0,
  "metadata": {
    "colab": {
      "provenance": [],
      "authorship_tag": "ABX9TyNaDjSs2Lz5Dab66bFGER31",
      "include_colab_link": true
    },
    "kernelspec": {
      "name": "python3",
      "display_name": "Python 3"
    },
    "language_info": {
      "name": "python"
    }
  },
  "cells": [
    {
      "cell_type": "markdown",
      "metadata": {
        "id": "view-in-github",
        "colab_type": "text"
      },
      "source": [
        "<a href=\"https://colab.research.google.com/github/Sneboah21/google_colab_notebooks/blob/main/Python.ipynb\" target=\"_parent\"><img src=\"https://colab.research.google.com/assets/colab-badge.svg\" alt=\"Open In Colab\"/></a>"
      ]
    },
    {
      "cell_type": "markdown",
      "source": [
        "#**List**\n",
        "###*WAP to add 50, 60 to L*"
      ],
      "metadata": {
        "id": "IWnl4tsj2NmS"
      }
    },
    {
      "cell_type": "code",
      "execution_count": null,
      "metadata": {
        "colab": {
          "base_uri": "https://localhost:8080/"
        },
        "id": "tn3fpJH22Hpb",
        "outputId": "6569039d-a7b4-495d-b23d-72d510add337"
      },
      "outputs": [
        {
          "output_type": "stream",
          "name": "stdout",
          "text": [
            "[11, 12, 13, 14, 50, 60]\n"
          ]
        }
      ],
      "source": [
        "L = [11,12,13,14]\n",
        "L.append(50)\n",
        "L.append(60)\n",
        "print(L)\n",
        "#L.insert(0,45) We can use insert function too to add\n",
        "#print(L)"
      ]
    },
    {
      "cell_type": "markdown",
      "source": [
        "###*WAP to remove 11 and 13 from L*"
      ],
      "metadata": {
        "id": "b6Hbo02F3wSy"
      }
    },
    {
      "cell_type": "code",
      "source": [
        "#Method 1\n",
        "L = [11,12,13,14]\n",
        "L.remove(11)\n",
        "L.remove(13)\n",
        "print(L)\n",
        "#Method 2 is by del L[1]"
      ],
      "metadata": {
        "colab": {
          "base_uri": "https://localhost:8080/"
        },
        "id": "uLYRWBVH34m1",
        "outputId": "e3316b1e-9a07-47f9-93e3-715112f46579"
      },
      "execution_count": null,
      "outputs": [
        {
          "output_type": "stream",
          "name": "stdout",
          "text": [
            "[12, 14]\n"
          ]
        }
      ]
    },
    {
      "cell_type": "markdown",
      "source": [
        "###*Sorting in ascending and descending order*"
      ],
      "metadata": {
        "id": "fboutnnA5XT2"
      }
    },
    {
      "cell_type": "code",
      "source": [
        "L = [11,14,12,13]\n",
        "L.sort()\n",
        "print(L)\n",
        "L.sort(reverse = True)\n",
        "print(L)"
      ],
      "metadata": {
        "colab": {
          "base_uri": "https://localhost:8080/"
        },
        "id": "J96IERr-5nQs",
        "outputId": "fbd57fd9-dc8f-4627-dcf7-069c8b8b3d84"
      },
      "execution_count": null,
      "outputs": [
        {
          "output_type": "stream",
          "name": "stdout",
          "text": [
            "[11, 12, 13, 14]\n",
            "[14, 13, 12, 11]\n"
          ]
        }
      ]
    },
    {
      "cell_type": "markdown",
      "source": [
        "###*Searching and no. of elements*"
      ],
      "metadata": {
        "id": "jZcwUOkt61Kg"
      }
    },
    {
      "cell_type": "code",
      "source": [
        "L = [11,12,13,14]\n",
        "if 13 in L:\n",
        "  print(\"Present at\", L.index(13))\n",
        "else:\n",
        "  print(\"Not Present\")\n",
        "\n",
        "print(\"Number of elements are: \", len(L))"
      ],
      "metadata": {
        "colab": {
          "base_uri": "https://localhost:8080/"
        },
        "id": "rdg00BTI68f0",
        "outputId": "14899af7-f99c-48bc-a5c9-1c21a9909a43"
      },
      "execution_count": null,
      "outputs": [
        {
          "output_type": "stream",
          "name": "stdout",
          "text": [
            "Present at 2\n",
            "Number of elements are:  4\n"
          ]
        }
      ]
    },
    {
      "cell_type": "markdown",
      "source": [
        "###*Sum all elements, all even and all odd*"
      ],
      "metadata": {
        "id": "1op58gpi73jt"
      }
    },
    {
      "cell_type": "code",
      "source": [
        "L = [11,12,13,14]\n",
        "sumeven = 0\n",
        "sumodd = 0\n",
        "print(sum(L))\n",
        "for i in L:\n",
        "  if(i%2==0):\n",
        "    sumeven+=i\n",
        "  else:\n",
        "    sumodd+=i\n",
        "print(\"Sumeven: \", sumeven)\n",
        "print(\"Sumodd: \",sumodd)"
      ],
      "metadata": {
        "colab": {
          "base_uri": "https://localhost:8080/"
        },
        "id": "84StAfCC7-Zn",
        "outputId": "6f6baa73-fcc1-4b29-844f-f1fe5909c38d"
      },
      "execution_count": null,
      "outputs": [
        {
          "output_type": "stream",
          "name": "stdout",
          "text": [
            "50\n",
            "Sumeven:  26\n",
            "Sumodd:  24\n"
          ]
        }
      ]
    },
    {
      "cell_type": "markdown",
      "source": [
        "###*Sum of Prime numbers*"
      ],
      "metadata": {
        "id": "CesfFMBF9fw2"
      }
    },
    {
      "cell_type": "code",
      "source": [
        "L = [11,12,13,14]\n",
        "sum = 0\n",
        "for i in L:\n",
        "  f = 0\n",
        "  for j in range(2,i//2 + 1):\n",
        "    if i%j==0:\n",
        "      f = 1\n",
        "      break\n",
        "  if f == 0:\n",
        "    sum+=i\n",
        "print(sum)\n",
        "#To clear:-\n",
        "L.clear()\n",
        "print(L)"
      ],
      "metadata": {
        "colab": {
          "base_uri": "https://localhost:8080/"
        },
        "id": "AQoEMuMl9ls0",
        "outputId": "32d4f6b4-bd06-4fa1-ac93-08905bd3840b"
      },
      "execution_count": null,
      "outputs": [
        {
          "output_type": "stream",
          "name": "stdout",
          "text": [
            "24\n",
            "[]\n"
          ]
        }
      ]
    },
    {
      "cell_type": "markdown",
      "source": [
        "#Dictionary"
      ],
      "metadata": {
        "id": "Jb64sWnvAdYp"
      }
    },
    {
      "cell_type": "markdown",
      "source": [
        "###*Some simple functions*"
      ],
      "metadata": {
        "id": "_ucqRiFQDF6a"
      }
    },
    {
      "cell_type": "code",
      "source": [
        "D = {1:5.6, 2:7.8, 3:6.6, 4:8.7, 5:7.7}\n",
        "#adding\n",
        "D[8] = 8.8;\n",
        "print(D)\n",
        "#deleting\n",
        "del D[2]\n",
        "print(D)\n",
        "if 6 in D:\n",
        "  print(\"present\")\n",
        "else:\n",
        "  print(\"Not Present\")\n",
        "#length after all operations\n",
        "print(len(D))"
      ],
      "metadata": {
        "colab": {
          "base_uri": "https://localhost:8080/"
        },
        "id": "NLan0OBNDBOf",
        "outputId": "cb3516dc-993c-4d29-ba11-1c3290cc4908"
      },
      "execution_count": null,
      "outputs": [
        {
          "output_type": "stream",
          "name": "stdout",
          "text": [
            "{1: 5.6, 2: 7.8, 3: 6.6, 4: 8.7, 5: 7.7, 8: 8.8}\n",
            "{1: 5.6, 3: 6.6, 4: 8.7, 5: 7.7, 8: 8.8}\n",
            "Not Present\n",
            "5\n"
          ]
        }
      ]
    },
    {
      "cell_type": "markdown",
      "source": [
        "###*Addition*"
      ],
      "metadata": {
        "id": "XAFUxHRyEsF8"
      }
    },
    {
      "cell_type": "code",
      "source": [
        "D = {1:5.6, 2:7.8, 3:6.6, 4:8.7, 5:7.7}\n",
        "s = 0\n",
        "for key in D:\n",
        "  s += D[key]\n",
        "print(s)\n",
        "D[3] = 7.1\n",
        "print(D)\n",
        "D.clear()\n",
        "print(D)"
      ],
      "metadata": {
        "colab": {
          "base_uri": "https://localhost:8080/"
        },
        "id": "UYN18fKDEx5J",
        "outputId": "11071701-265c-40f6-9605-05d491eba3e0"
      },
      "execution_count": null,
      "outputs": [
        {
          "output_type": "stream",
          "name": "stdout",
          "text": [
            "36.4\n",
            "{1: 5.6, 2: 7.8, 3: 7.1, 4: 8.7, 5: 7.7}\n",
            "{}\n"
          ]
        }
      ]
    },
    {
      "cell_type": "markdown",
      "source": [
        "#Set"
      ],
      "metadata": {
        "id": "zIIAxx7pFznV"
      }
    },
    {
      "cell_type": "code",
      "source": [
        "S1 = set([10,20,30,40,50,60])\n",
        "S2 = set([40,50,60,70,80,90])\n",
        "S1.add(55)\n",
        "S1.add(66)\n",
        "print(S1)\n",
        "S1.remove(10)\n",
        "S1.remove(30)\n",
        "print(S1)\n",
        "if 40 in S1:\n",
        "  print(\"Present\")\n",
        "else:\n",
        "  print(\"Not Present\")\n",
        "\n",
        "union = S1.union(S2)\n",
        "print(union)\n",
        "inter = S1.intersection(S2)\n",
        "print(inter)\n",
        "diff = S1-S2\n",
        "print(diff)"
      ],
      "metadata": {
        "colab": {
          "base_uri": "https://localhost:8080/"
        },
        "id": "7ULF9tXtF2f-",
        "outputId": "7f1620c7-6b91-46fb-e994-eaa63eedaa7c"
      },
      "execution_count": null,
      "outputs": [
        {
          "output_type": "stream",
          "name": "stdout",
          "text": [
            "{66, 40, 10, 50, 20, 55, 60, 30}\n",
            "{66, 40, 50, 20, 55, 60}\n",
            "Present\n",
            "{66, 70, 40, 80, 50, 20, 55, 90, 60}\n",
            "{40, 50, 60}\n",
            "{66, 20, 55}\n"
          ]
        }
      ]
    },
    {
      "cell_type": "markdown",
      "source": [
        "#Random numbers generation"
      ],
      "metadata": {
        "id": "F4pVjdjlJWX7"
      }
    },
    {
      "cell_type": "code",
      "source": [
        "#100 random strings whose length is between 6 & 8\n",
        "import string as s\n",
        "import random as r\n",
        "stri = s.ascii_letters\n",
        "for i in range(0,100):\n",
        "  length = r.randint(6,8)\n",
        "  string = r.sample(stri,length)\n",
        "  newstr = \"\".join(string)\n",
        "  print(newstr)"
      ],
      "metadata": {
        "colab": {
          "base_uri": "https://localhost:8080/"
        },
        "collapsed": true,
        "id": "mpeabz9vJ0Xg",
        "outputId": "cb5f7a40-53da-4db3-f633-e38df4a734e5"
      },
      "execution_count": null,
      "outputs": [
        {
          "output_type": "stream",
          "name": "stdout",
          "text": [
            "PONExW\n",
            "cDmCze\n",
            "WxvogP\n",
            "iQsrCa\n",
            "nukIlSZG\n",
            "xWrIARv\n",
            "JtOZLapB\n",
            "XdKuMYt\n",
            "VewBHmp\n",
            "YHfcorpn\n",
            "wNJvYqW\n",
            "xDGksTwe\n",
            "cSxpkKW\n",
            "IuUgka\n",
            "klvYtaOT\n",
            "vLVUMIY\n",
            "dUBnakvx\n",
            "tJruaz\n",
            "XcEkeFw\n",
            "xFvKQJ\n",
            "gVOaAl\n",
            "hxkWLCnI\n",
            "oFatdirS\n",
            "LFmBba\n",
            "mtMNSOyr\n",
            "uNaGzJs\n",
            "NJHOEzb\n",
            "TeQkrK\n",
            "UpqYlbWj\n",
            "STcpquEr\n",
            "SRsPOxnc\n",
            "YiFsnNgI\n",
            "ZwQoCpP\n",
            "kXUeFmS\n",
            "LzPqgpi\n",
            "OxRNVUF\n",
            "nOwiHCf\n",
            "XFLYzSx\n",
            "PCrFEgU\n",
            "QtVziR\n",
            "UNTohJG\n",
            "deBiqS\n",
            "QuaPRlW\n",
            "kMWJFxRY\n",
            "iuYjlBvo\n",
            "qAFHsvSZ\n",
            "fLxkin\n",
            "TJjDUPvH\n",
            "bTQFctyx\n",
            "uYahZC\n",
            "SJBijKHv\n",
            "yQMzrfth\n",
            "ntsBUvTj\n",
            "qjpeylI\n",
            "iFJhPZ\n",
            "uZcydeQ\n",
            "nHucWPz\n",
            "AmefcC\n",
            "BhRkTvb\n",
            "NuVJWDst\n",
            "ELHRAk\n",
            "nNGlupg\n",
            "rXnlJA\n",
            "lTFpOx\n",
            "lArYURB\n",
            "WaFJERi\n",
            "ScnZIW\n",
            "nPcmQuS\n",
            "FlLKWkQv\n",
            "OdeJfzc\n",
            "fAipWVon\n",
            "fWpsBiJ\n",
            "MckIDb\n",
            "pjQfWBxX\n",
            "IJjuTeCk\n",
            "TAhFeHx\n",
            "UEaLdqxN\n",
            "FNbWBACo\n",
            "ZxhRlJj\n",
            "tVWALiMx\n",
            "GrwvhimX\n",
            "KULrMV\n",
            "fMZjQx\n",
            "miKaSOx\n",
            "QbRyaUd\n",
            "zFvTLmO\n",
            "dZzESqk\n",
            "HGreUVj\n",
            "YaGxgK\n",
            "ktlRcoM\n",
            "dnAYLP\n",
            "OIBLgtH\n",
            "xjoXbvB\n",
            "kunAHcCs\n",
            "SwukjdFs\n",
            "WakLSBO\n",
            "qSUdrlWI\n",
            "JUmLtNV\n",
            "mQnfaHCE\n",
            "iFvoBaKl\n"
          ]
        }
      ]
    },
    {
      "cell_type": "markdown",
      "source": [
        "###*All Prime numbers between 600 and 800*"
      ],
      "metadata": {
        "id": "FJho4LQRizia"
      }
    },
    {
      "cell_type": "code",
      "source": [
        "def isPrime(n):\n",
        "  prime = True\n",
        "  for i in range(2,n//2 + 1):\n",
        "    if n%i==0:\n",
        "      prime = False\n",
        "      break\n",
        "  return prime\n",
        "\n",
        "for i in range(601,800):\n",
        "  if isPrime(i) == True:\n",
        "    print(i)\n"
      ],
      "metadata": {
        "colab": {
          "base_uri": "https://localhost:8080/"
        },
        "collapsed": true,
        "id": "dTRVixwPi5kg",
        "outputId": "a7543804-ee19-4f52-908a-44eeb6795c1f"
      },
      "execution_count": null,
      "outputs": [
        {
          "output_type": "stream",
          "name": "stdout",
          "text": [
            "601\n",
            "607\n",
            "613\n",
            "617\n",
            "619\n",
            "631\n",
            "641\n",
            "643\n",
            "647\n",
            "653\n",
            "659\n",
            "661\n",
            "673\n",
            "677\n",
            "683\n",
            "691\n",
            "701\n",
            "709\n",
            "719\n",
            "727\n",
            "733\n",
            "739\n",
            "743\n",
            "751\n",
            "757\n",
            "761\n",
            "769\n",
            "773\n",
            "787\n",
            "797\n"
          ]
        }
      ]
    },
    {
      "cell_type": "markdown",
      "source": [
        "###*Numbers divisible by 7 and 9*"
      ],
      "metadata": {
        "id": "1jcwo_lYkgLD"
      }
    },
    {
      "cell_type": "code",
      "source": [
        "for i in range(101,1000):\n",
        "  if i%7==0 and i%9 == 0:\n",
        "    print(i)"
      ],
      "metadata": {
        "colab": {
          "base_uri": "https://localhost:8080/"
        },
        "id": "bLPHRE0Okq5h",
        "outputId": "cda6ea98-4ddf-44cd-f95a-b43754758285"
      },
      "execution_count": null,
      "outputs": [
        {
          "output_type": "stream",
          "name": "stdout",
          "text": [
            "126\n",
            "189\n",
            "252\n",
            "315\n",
            "378\n",
            "441\n",
            "504\n",
            "567\n",
            "630\n",
            "693\n",
            "756\n",
            "819\n",
            "882\n",
            "945\n"
          ]
        }
      ]
    },
    {
      "cell_type": "markdown",
      "source": [
        "###*Two list of 10 random numbers between 10 and 30*"
      ],
      "metadata": {
        "id": "q7OAmnshxloa"
      }
    },
    {
      "cell_type": "code",
      "source": [
        "from math import comb\n",
        "import random as r\n",
        "L1 = []\n",
        "L2 = []\n",
        "for i in range(1,11):\n",
        "  L1.append(r.randint(10,30))\n",
        "  L2.append(r.randint(10,30))\n",
        "\n",
        "print(L1)\n",
        "print(L2)\n",
        "#Do by sets as doing through list it results in repeated numbers\n",
        "celem = set(L1).intersection(set(L2))\n",
        "clist = list(celem)\n",
        "uniq = set(L1).symmetric_difference(set(L2))\n",
        "uniq_list = list(uniq)\n",
        "print(uniq_list)\n",
        "print(clist)\n",
        "#Minimun and Maximum in both the lists\n",
        "combined_list = L1 + L2\n",
        "maximum = max(combined_list)\n",
        "minimum = min(combined_list)\n",
        "print(maximum)\n",
        "print(minimum)\n",
        "s = sum(combined_list)\n",
        "print(s)"
      ],
      "metadata": {
        "colab": {
          "base_uri": "https://localhost:8080/"
        },
        "id": "yrrabGDGxzr1",
        "outputId": "ed44fd95-a429-40a8-f1cb-adc21d5268d4"
      },
      "execution_count": null,
      "outputs": [
        {
          "output_type": "stream",
          "name": "stdout",
          "text": [
            "[29, 29, 20, 23, 29, 17, 15, 30, 19, 26]\n",
            "[24, 22, 26, 22, 19, 13, 19, 10, 25, 23]\n",
            "[10, 13, 15, 17, 20, 22, 24, 25, 29, 30]\n",
            "[26, 19, 23]\n",
            "30\n",
            "10\n",
            "440\n"
          ]
        }
      ]
    },
    {
      "cell_type": "markdown",
      "source": [
        "#Writing in file"
      ],
      "metadata": {
        "id": "zhvjBnwM9rPL"
      }
    },
    {
      "cell_type": "code",
      "source": [
        "import os\n",
        "import time\n",
        "t1 = time.time()\n",
        "D = {1:\"One\", 2:\"Two\", 3:\"Three\", 4:\"Four\"}\n",
        "L = [\"One\",\"Two\",\"Three\",\"Four\"]\n",
        "#file_path = os.path.join(os.getcwd(), \"number.txt\")\n",
        "with open(os.path.join(os.getcwd(), \"number.txt\"),'w') as file:\n",
        "  for key,value in D.items():\n",
        "    file.write(f\"{key},{value}\\n\")\n",
        "  for i in L:\n",
        "    length = len(i)\n",
        "    file.write(f\"{i},{length}\\n\")\n",
        "t2 = time.time()\n",
        "Program_time = t2 - t1\n",
        "print(Program_time)"
      ],
      "metadata": {
        "colab": {
          "base_uri": "https://localhost:8080/"
        },
        "id": "SUaQl_pS9x5f",
        "outputId": "12930be2-50d2-4e66-dc24-04d02572f586"
      },
      "execution_count": null,
      "outputs": [
        {
          "output_type": "stream",
          "name": "stdout",
          "text": [
            "0.0017499923706054688\n"
          ]
        }
      ]
    },
    {
      "cell_type": "markdown",
      "source": [
        "###*Another file*"
      ],
      "metadata": {
        "id": "iYtp0pJLSP3x"
      }
    },
    {
      "cell_type": "code",
      "source": [
        "import os\n",
        "import time\n",
        "import random as r\n",
        "import string as s\n",
        "t1 = time.time()\n",
        "string = s.ascii_letters+s.digits\n",
        "my_list = []\n",
        "for i in range(100):\n",
        "  length = r.randint(10,15)\n",
        "  string1 = r.sample(string,length)\n",
        "  str1 = \"\".join(string1)\n",
        "  my_list.append(str1)\n",
        "\n",
        "with open(os.path.join(os.getcwd(), \"number.txt\"), 'w') as file:\n",
        "  for i in my_list:\n",
        "    file.write(f\"{i}\\n\")\n",
        "t2 = time.time()\n",
        "time_diff = t2 - t1\n",
        "print(time_diff)"
      ],
      "metadata": {
        "colab": {
          "base_uri": "https://localhost:8080/"
        },
        "id": "efgCj7elSPHU",
        "outputId": "8fc674b6-6d4f-4d10-96fc-1f5209f8e0e2"
      },
      "execution_count": null,
      "outputs": [
        {
          "output_type": "stream",
          "name": "stdout",
          "text": [
            "0.004258871078491211\n"
          ]
        }
      ]
    },
    {
      "cell_type": "markdown",
      "source": [
        "##*Graph Plotting*"
      ],
      "metadata": {
        "id": "Wg8L4CTRXTDK"
      }
    },
    {
      "cell_type": "code",
      "source": [
        "import time\n",
        "import random as r\n",
        "import matplotlib.pyplot as plt\n",
        "\n",
        "L1 = []\n",
        "L2 = []\n",
        "L3 = []\n",
        "L4 = []\n",
        "L5 = []\n",
        "for i in range(5000):\n",
        "  L1.append(r.randint(1,100))\n",
        "for i in range(10000):\n",
        "  L2.append(r.randint(1,100))\n",
        "for i in range(15000):\n",
        "  L3.append(r.randint(1,100))\n",
        "for i in range(20000):\n",
        "  L4.append(r.randint(1,100))\n",
        "for i in range(25000):\n",
        "  L5.append(r.randint(1,100))\n",
        "\n",
        "elapsed_time = []\n",
        "list_sizes = []\n",
        "for lst in [L1,L2,L3,L4,L5]:\n",
        "  start_time = time.time()\n",
        "  lst.sort()\n",
        "  end_time = time.time()\n",
        "  t = end_time-start_time\n",
        "  elapsed_time.append(t)\n",
        "  list_sizes.append(len(lst))\n",
        "\n",
        "plt.plot(list_sizes, elapsed_time, marker='o')\n",
        "plt.xlabel('List sizes')\n",
        "plt.ylabel('Time(in seconds)')\n",
        "plt.title('Time taken for sorting elements in lists of different sizes')\n",
        "plt.grid(True)\n",
        "plt.show()\n",
        "\n"
      ],
      "metadata": {
        "colab": {
          "base_uri": "https://localhost:8080/",
          "height": 472
        },
        "id": "dg9abk_hXZEz",
        "outputId": "272f71ae-86d0-4627-a9d4-01a5b5ea12f5"
      },
      "execution_count": null,
      "outputs": [
        {
          "output_type": "display_data",
          "data": {
            "text/plain": [
              "<Figure size 640x480 with 1 Axes>"
            ],
            "image/png": "[encoded data removed]"
          },
          "metadata": {}
        }
      ]
    },
    {
      "cell_type": "markdown",
      "source": [
        "##*Student's maximum and minimum average marks*"
      ],
      "metadata": {
        "id": "Nf4q7Y70e1pj"
      }
    },
    {
      "cell_type": "code",
      "source": [
        "student1 = {\"Eng\":50,\"Math\":60,\"Geo\":90,\"Phy\":44,\"Chem\":74}\n",
        "student2 = {\"Eng\":80,\"Math\":55,\"Geo\":42,\"Phy\":72,\"Chem\":93}\n",
        "student3 = {\"Eng\":60,\"Math\":100,\"Geo\":43,\"Phy\":44,\"Chem\":80}\n",
        "s1 = 0\n",
        "s2 = 0\n",
        "s3 = 0\n",
        "for key in student1:\n",
        "  s1+=student1[key]\n",
        "average1 = s1/len(student1)\n",
        "for key in student2:x\n",
        "  s2+=student2[key]\n",
        "average2 = s2/len(student2)\n",
        "for key in student3:\n",
        "  s3+=student3[key]\n",
        "average3 = s1/len(student3)\n",
        "my_list = [average1,average2,average3]\n",
        "my_list.sort(reverse=True)\n",
        "length = len(my_list)\n",
        "print(\"Maximum marks:\", my_list[0])\n",
        "print(\"Minimum marks:\", my_list[length-1])\n"
      ],
      "metadata": {
        "colab": {
          "base_uri": "https://localhost:8080/"
        },
        "id": "rUw-oS7kfAqW",
        "outputId": "e0434fa8-ba3e-4e52-d895-73cf4d6a27a3"
      },
      "execution_count": null,
      "outputs": [
        {
          "output_type": "stream",
          "name": "stdout",
          "text": [
            "Maximum marks: 68.4\n",
            "Minimum marks: 63.6\n"
          ]
        }
      ]
    },
    {
      "cell_type": "markdown",
      "source": [
        "###Challenge Ques\n"
      ],
      "metadata": {
        "id": "CLO93jZ7Gkaq"
      }
    },
    {
      "cell_type": "markdown",
      "source": [
        "###Write a program to sort a heterogeneous List"
      ],
      "metadata": {
        "id": "xuFHvLbdKwXQ"
      }
    },
    {
      "cell_type": "code",
      "source": [
        "L = [\"Ram\", 1, \"Shyam\", 2, \"Aman\", 3]\n",
        "print(L)\n",
        "type_order = {int:0,float:1,str:2}\n",
        "sorted_list = sorted(L,key = lambda x:(type_order[type(x)],x))\n",
        "print(sorted_list)"
      ],
      "metadata": {
        "colab": {
          "base_uri": "https://localhost:8080/"
        },
        "id": "8YxXX6QxGyOb",
        "outputId": "8250dd46-7249-4b95-b3e2-8fbf36dd8b95"
      },
      "execution_count": 1,
      "outputs": [
        {
          "output_type": "stream",
          "name": "stdout",
          "text": [
            "['Ram', 1, 'Shyam', 2, 'Aman', 3]\n",
            "[1, 2, 3, 'Aman', 'Ram', 'Shyam']\n"
          ]
        }
      ]
    }
  ]
}