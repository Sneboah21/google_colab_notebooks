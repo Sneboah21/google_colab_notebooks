{
  "nbformat": 4,
  "nbformat_minor": 0,
  "metadata": {
    "colab": {
      "provenance": [],
      "authorship_tag": "ABX9TyOqynTsryqU23t012uVauGO",
      "include_colab_link": true
    },
    "kernelspec": {
      "name": "python3",
      "display_name": "Python 3"
    },
    "language_info": {
      "name": "python"
    }
  },
  "cells": [
    {
      "cell_type": "markdown",
      "metadata": {
        "id": "view-in-github",
        "colab_type": "text"
      },
      "source": [
        "<a href=\"https://colab.research.google.com/github/Sneboah21/google_colab_notebooks/blob/main/Subset_Selection_Problem.ipynb\" target=\"_parent\"><img src=\"https://colab.research.google.com/assets/colab-badge.svg\" alt=\"Open In Colab\"/></a>"
      ]
    },
    {
      "cell_type": "markdown",
      "source": [
        "#Subset Selection Problem"
      ],
      "metadata": {
        "id": "yAKbec_T3h1w"
      }
    },
    {
      "cell_type": "markdown",
      "source": [
        "###1. Problem Statement:\n",
        "###Find all the subsets from a set of numbers whose sum is zero.\n",
        "\n",
        "###Constraint: Subset size must be 5\n",
        "###Set={-12, -3, -6, 7, 2, -2, 6, 3, 9, -7, -5, -8, 1, 11, -9, -4}"
      ],
      "metadata": {
        "id": "oLUvMtEk3rBd"
      }
    },
    {
      "cell_type": "code",
      "execution_count": 5,
      "metadata": {
        "colab": {
          "base_uri": "https://localhost:8080/"
        },
        "id": "dJLjCDzV2Y94",
        "outputId": "591f4890-83f5-41a3-f7b5-2f52e1b6631f"
      },
      "outputs": [
        {
          "output_type": "stream",
          "name": "stdout",
          "text": [
            "(11, 7, 3, -9, -12)\n",
            "(1, -9, 9, 7, -8)\n",
            "(-2, 9, 3, 2, -12)\n",
            "(-6, 11, 3, -3, -5)\n",
            "(-6, 9, -8, -2, 7)\n",
            "(1, 11, -4, -5, -3)\n",
            "(3, -3, -5, -4, 9)\n",
            "(-9, 9, 3, -5, 2)\n",
            "(1, 9, -7, 6, -9)\n",
            "(-3, 2, -6, 11, -4)\n",
            "(11, -4, 3, -12, 2)\n",
            "(-2, 7, -3, 3, -5)\n",
            "(9, -9, 11, -7, -4)\n",
            "(6, -12, 3, 11, -8)\n",
            "(9, 7, -2, -6, -8)\n",
            "(1, 3, -3, -12, 11)\n",
            "(-2, -4, -7, 2, 11)\n",
            "(-4, 11, -9, 9, -7)\n",
            "(-2, -7, -9, 7, 11)\n",
            "(1, -5, 11, 2, -9)\n",
            "(7, -6, -9, 6, 2)\n",
            "(-5, 9, -3, -7, 6)\n",
            "(6, 11, -12, -3, -2)\n",
            "(9, -9, -7, -4, 11)\n",
            "(1, 9, 2, -3, -9)\n",
            "(11, -4, -5, 7, -9)\n",
            "(-8, -9, -3, 9, 11)\n",
            "(2, 3, 9, -9, -5)\n",
            "Total sets are:  28\n"
          ]
        },
        {
          "output_type": "stream",
          "name": "stderr",
          "text": [
            "<ipython-input-5-0b836f71e371>:8: DeprecationWarning: Sampling from a set deprecated\n",
            "since Python 3.9 and will be removed in a subsequent version.\n",
            "  subset = r.sample(Set,size) #gives a list of 5 numbers\n"
          ]
        }
      ],
      "source": [
        "import random as r\n",
        "\n",
        "Set = set([-12,-3,-6,7,2,-2,6,3,9,-7,-5,-8,1,11,-9,-4])\n",
        "resultSet = set()\n",
        "size = 5\n",
        "numitr = 1000\n",
        "for i in range(numitr):\n",
        "  subset = r.sample(Set,size) #gives a list of 5 numbers\n",
        "  if sum(subset) == 0:\n",
        "    resultSet.add(tuple(subset))\n",
        "for sets in resultSet:\n",
        "  print(sets)\n",
        "\n",
        "print(\"Total sets are: \", len(resultSet))"
      ]
    },
    {
      "cell_type": "markdown",
      "source": [
        "###2. Problem Statement:\n",
        "###Find all the subsets from a set of numbers whose sum is zero.\n",
        "\n",
        "###Constraint: Subset size must be 3 to 6 only\n",
        "###Set={-12, -3, -6, 7, 2, -2, 6, 3, 9, -7, -5, -8, 1, 11, -9, -4}"
      ],
      "metadata": {
        "id": "SpCK8GxK868B"
      }
    },
    {
      "cell_type": "code",
      "source": [
        "import random as r\n",
        "\n",
        "Set = set([-12,-3,-6,7,2,-2,6,3,9,-7,-5,-8,1,11,-9,-4])\n",
        "resultSet = set()\n",
        "numitr = 1000\n",
        "for i in range(numitr):\n",
        "  size = r.randint(3,6)\n",
        "  subset = r.sample(Set,size)\n",
        "  subset.sort()  #If you want to sort the list in ascending order\n",
        "  if sum(subset) == 0:\n",
        "    resultSet.add(tuple(subset))\n",
        "\n",
        "for sets in resultSet:\n",
        "  print(sets)\n",
        "print(\"Total sets are: \", len(resultSet))"
      ],
      "metadata": {
        "colab": {
          "base_uri": "https://localhost:8080/"
        },
        "id": "uJcE758W9Zeq",
        "outputId": "7fd544e8-6b35-4892-ae74-77698143038f"
      },
      "execution_count": 6,
      "outputs": [
        {
          "output_type": "stream",
          "name": "stdout",
          "text": [
            "(-12, -3, 2, 6, 7)\n",
            "(-12, -5, 6, 11)\n",
            "(-6, -5, 1, 3, 7)\n",
            "(-4, 1, 3)\n",
            "(-9, -4, 6, 7)\n",
            "(-7, -2, 9)\n",
            "(-4, -3, -2, 9)\n",
            "(-6, -5, 2, 9)\n",
            "(-8, 1, 7)\n",
            "(-8, 2, 6)\n",
            "(-9, -7, 7, 9)\n",
            "(-9, -2, 11)\n",
            "(-9, -6, 6, 9)\n",
            "(-9, -5, 1, 6, 7)\n",
            "(-12, -5, -3, 3, 6, 11)\n",
            "(-8, -3, -2, 1, 3, 9)\n",
            "(-7, 1, 6)\n",
            "(-9, -5, -2, 2, 3, 11)\n",
            "(-8, -3, 11)\n",
            "(-7, -2, 2, 7)\n",
            "Total sets are:  20\n"
          ]
        },
        {
          "output_type": "stream",
          "name": "stderr",
          "text": [
            "<ipython-input-6-75b0086b04c0>:8: DeprecationWarning: Sampling from a set deprecated\n",
            "since Python 3.9 and will be removed in a subsequent version.\n",
            "  subset = r.sample(Set,size)\n"
          ]
        }
      ]
    }
  ]
}